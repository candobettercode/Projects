{
 "cells": [
  {
   "cell_type": "code",
   "execution_count": 5,
   "id": "181bfda1",
   "metadata": {},
   "outputs": [],
   "source": [
    "import pandas as pd"
   ]
  },
  {
   "cell_type": "code",
   "execution_count": 6,
   "id": "69cf90e9",
   "metadata": {},
   "outputs": [],
   "source": [
    "url = 'https://en.wikipedia.org/wiki/Wikipedia:Fundraising_statistics'\n",
    "tables = pd.read_html(url)"
   ]
  },
  {
   "cell_type": "code",
   "execution_count": 7,
   "id": "a41d8b98",
   "metadata": {},
   "outputs": [
    {
     "data": {
      "text/plain": [
       "list"
      ]
     },
     "execution_count": 7,
     "metadata": {},
     "output_type": "execute_result"
    }
   ],
   "source": [
    "type(tables)"
   ]
  },
  {
   "cell_type": "code",
   "execution_count": 8,
   "id": "9df180f2",
   "metadata": {},
   "outputs": [
    {
     "data": {
      "text/plain": [
       "1"
      ]
     },
     "execution_count": 8,
     "metadata": {},
     "output_type": "execute_result"
    }
   ],
   "source": [
    "len(tables)"
   ]
  },
  {
   "cell_type": "code",
   "execution_count": 9,
   "id": "2ac9a0f8",
   "metadata": {},
   "outputs": [
    {
     "data": {
      "text/plain": [
       "[       Year Source        Revenue       Expenses    Asset rise   Total assets\n",
       " 0   2021/22    PDF  $ 154,686,521  $ 145,970,915   $ 8,173,996  $ 239,351,532\n",
       " 1   2020/21    PDF  $ 162,886,686  $ 111,839,819  $ 50,861,811  $ 231,177,536\n",
       " 2   2019/20    PDF  $ 129,234,327  $ 112,489,397  $ 14,674,300  $ 180,315,725\n",
       " 3   2018/19    PDF  $ 120,067,266   $ 91,414,010  $ 30,691,855  $ 165,641,425\n",
       " 4   2017/18    PDF  $ 104,505,783   $ 81,442,265  $ 21,619,373  $ 134,949,570\n",
       " 5   2016/17    PDF   $ 91,242,418   $ 69,136,758  $ 21,547,402  $ 113,330,197\n",
       " 6   2015/16    PDF   $ 81,862,724   $ 65,947,465  $ 13,962,497   $ 91,782,795\n",
       " 7   2014/15    PDF   $ 75,797,223   $ 52,596,782  $ 24,345,277   $ 77,820,298\n",
       " 8   2013/14    PDF   $ 52,465,287   $ 45,900,745   $ 8,285,897   $ 53,475,021\n",
       " 9   2012/13    PDF   $ 48,635,408   $ 35,704,796  $ 10,260,066   $ 45,189,124\n",
       " 10  2011/12    PDF   $ 38,479,665   $ 29,260,652  $ 10,736,914   $ 34,929,058\n",
       " 11  2010/11    PDF   $ 24,785,092   $ 17,889,794   $ 9,649,413   $ 24,192,144\n",
       " 12  2009/10    PDF   $ 17,979,312   $ 10,266,793   $ 6,310,964   $ 14,542,731\n",
       " 13  2008/09    PDF    $ 8,658,006    $ 5,617,236   $ 3,053,599    $ 8,231,767\n",
       " 14  2007/08    PDF    $ 5,032,981    $ 3,540,724   $ 3,519,886    $ 5,178,168\n",
       " 15  2006/07    PDF    $ 2,734,909    $ 2,077,843     $ 654,066    $ 1,658,282\n",
       " 16  2005/06    PDF    $ 1,508,039      $ 791,907     $ 736,132    $ 1,004,216\n",
       " 17  2004/05    PDF      $ 379,088      $ 177,670     $ 211,418      $ 268,084\n",
       " 18  2003/04    PDF       $ 80,129       $ 23,463      $ 56,666       $ 56,666]"
      ]
     },
     "execution_count": 9,
     "metadata": {},
     "output_type": "execute_result"
    }
   ],
   "source": [
    "tables"
   ]
  },
  {
   "cell_type": "code",
   "execution_count": 10,
   "id": "8ee71849",
   "metadata": {},
   "outputs": [
    {
     "data": {
      "text/html": [
       "<div>\n",
       "<style scoped>\n",
       "    .dataframe tbody tr th:only-of-type {\n",
       "        vertical-align: middle;\n",
       "    }\n",
       "\n",
       "    .dataframe tbody tr th {\n",
       "        vertical-align: top;\n",
       "    }\n",
       "\n",
       "    .dataframe thead th {\n",
       "        text-align: right;\n",
       "    }\n",
       "</style>\n",
       "<table border=\"1\" class=\"dataframe\">\n",
       "  <thead>\n",
       "    <tr style=\"text-align: right;\">\n",
       "      <th></th>\n",
       "      <th>Year</th>\n",
       "      <th>Source</th>\n",
       "      <th>Revenue</th>\n",
       "      <th>Expenses</th>\n",
       "      <th>Asset rise</th>\n",
       "      <th>Total assets</th>\n",
       "    </tr>\n",
       "  </thead>\n",
       "  <tbody>\n",
       "    <tr>\n",
       "      <th>0</th>\n",
       "      <td>2021/22</td>\n",
       "      <td>PDF</td>\n",
       "      <td>$ 154,686,521</td>\n",
       "      <td>$ 145,970,915</td>\n",
       "      <td>$ 8,173,996</td>\n",
       "      <td>$ 239,351,532</td>\n",
       "    </tr>\n",
       "    <tr>\n",
       "      <th>1</th>\n",
       "      <td>2020/21</td>\n",
       "      <td>PDF</td>\n",
       "      <td>$ 162,886,686</td>\n",
       "      <td>$ 111,839,819</td>\n",
       "      <td>$ 50,861,811</td>\n",
       "      <td>$ 231,177,536</td>\n",
       "    </tr>\n",
       "    <tr>\n",
       "      <th>2</th>\n",
       "      <td>2019/20</td>\n",
       "      <td>PDF</td>\n",
       "      <td>$ 129,234,327</td>\n",
       "      <td>$ 112,489,397</td>\n",
       "      <td>$ 14,674,300</td>\n",
       "      <td>$ 180,315,725</td>\n",
       "    </tr>\n",
       "    <tr>\n",
       "      <th>3</th>\n",
       "      <td>2018/19</td>\n",
       "      <td>PDF</td>\n",
       "      <td>$ 120,067,266</td>\n",
       "      <td>$ 91,414,010</td>\n",
       "      <td>$ 30,691,855</td>\n",
       "      <td>$ 165,641,425</td>\n",
       "    </tr>\n",
       "    <tr>\n",
       "      <th>4</th>\n",
       "      <td>2017/18</td>\n",
       "      <td>PDF</td>\n",
       "      <td>$ 104,505,783</td>\n",
       "      <td>$ 81,442,265</td>\n",
       "      <td>$ 21,619,373</td>\n",
       "      <td>$ 134,949,570</td>\n",
       "    </tr>\n",
       "  </tbody>\n",
       "</table>\n",
       "</div>"
      ],
      "text/plain": [
       "      Year Source        Revenue       Expenses    Asset rise   Total assets\n",
       "0  2021/22    PDF  $ 154,686,521  $ 145,970,915   $ 8,173,996  $ 239,351,532\n",
       "1  2020/21    PDF  $ 162,886,686  $ 111,839,819  $ 50,861,811  $ 231,177,536\n",
       "2  2019/20    PDF  $ 129,234,327  $ 112,489,397  $ 14,674,300  $ 180,315,725\n",
       "3  2018/19    PDF  $ 120,067,266   $ 91,414,010  $ 30,691,855  $ 165,641,425\n",
       "4  2017/18    PDF  $ 104,505,783   $ 81,442,265  $ 21,619,373  $ 134,949,570"
      ]
     },
     "execution_count": 10,
     "metadata": {},
     "output_type": "execute_result"
    }
   ],
   "source": [
    "tables[0].head()"
   ]
  },
  {
   "cell_type": "code",
   "execution_count": 11,
   "id": "6b3ff4f3",
   "metadata": {},
   "outputs": [
    {
     "data": {
      "text/html": [
       "<div>\n",
       "<style scoped>\n",
       "    .dataframe tbody tr th:only-of-type {\n",
       "        vertical-align: middle;\n",
       "    }\n",
       "\n",
       "    .dataframe tbody tr th {\n",
       "        vertical-align: top;\n",
       "    }\n",
       "\n",
       "    .dataframe thead th {\n",
       "        text-align: right;\n",
       "    }\n",
       "</style>\n",
       "<table border=\"1\" class=\"dataframe\">\n",
       "  <thead>\n",
       "    <tr style=\"text-align: right;\">\n",
       "      <th></th>\n",
       "      <th>Year</th>\n",
       "      <th>Source</th>\n",
       "      <th>Revenue</th>\n",
       "      <th>Expenses</th>\n",
       "      <th>Asset rise</th>\n",
       "      <th>Total assets</th>\n",
       "    </tr>\n",
       "  </thead>\n",
       "  <tbody>\n",
       "    <tr>\n",
       "      <th>14</th>\n",
       "      <td>2007/08</td>\n",
       "      <td>PDF</td>\n",
       "      <td>$ 5,032,981</td>\n",
       "      <td>$ 3,540,724</td>\n",
       "      <td>$ 3,519,886</td>\n",
       "      <td>$ 5,178,168</td>\n",
       "    </tr>\n",
       "    <tr>\n",
       "      <th>15</th>\n",
       "      <td>2006/07</td>\n",
       "      <td>PDF</td>\n",
       "      <td>$ 2,734,909</td>\n",
       "      <td>$ 2,077,843</td>\n",
       "      <td>$ 654,066</td>\n",
       "      <td>$ 1,658,282</td>\n",
       "    </tr>\n",
       "    <tr>\n",
       "      <th>16</th>\n",
       "      <td>2005/06</td>\n",
       "      <td>PDF</td>\n",
       "      <td>$ 1,508,039</td>\n",
       "      <td>$ 791,907</td>\n",
       "      <td>$ 736,132</td>\n",
       "      <td>$ 1,004,216</td>\n",
       "    </tr>\n",
       "    <tr>\n",
       "      <th>17</th>\n",
       "      <td>2004/05</td>\n",
       "      <td>PDF</td>\n",
       "      <td>$ 379,088</td>\n",
       "      <td>$ 177,670</td>\n",
       "      <td>$ 211,418</td>\n",
       "      <td>$ 268,084</td>\n",
       "    </tr>\n",
       "    <tr>\n",
       "      <th>18</th>\n",
       "      <td>2003/04</td>\n",
       "      <td>PDF</td>\n",
       "      <td>$ 80,129</td>\n",
       "      <td>$ 23,463</td>\n",
       "      <td>$ 56,666</td>\n",
       "      <td>$ 56,666</td>\n",
       "    </tr>\n",
       "  </tbody>\n",
       "</table>\n",
       "</div>"
      ],
      "text/plain": [
       "       Year Source      Revenue     Expenses   Asset rise Total assets\n",
       "14  2007/08    PDF  $ 5,032,981  $ 3,540,724  $ 3,519,886  $ 5,178,168\n",
       "15  2006/07    PDF  $ 2,734,909  $ 2,077,843    $ 654,066  $ 1,658,282\n",
       "16  2005/06    PDF  $ 1,508,039    $ 791,907    $ 736,132  $ 1,004,216\n",
       "17  2004/05    PDF    $ 379,088    $ 177,670    $ 211,418    $ 268,084\n",
       "18  2003/04    PDF     $ 80,129     $ 23,463     $ 56,666     $ 56,666"
      ]
     },
     "execution_count": 11,
     "metadata": {},
     "output_type": "execute_result"
    }
   ],
   "source": [
    "tables[0].tail()"
   ]
  },
  {
   "cell_type": "code",
   "execution_count": 12,
   "id": "a26ec2e8",
   "metadata": {},
   "outputs": [],
   "source": [
    "fundraising = tables[0]"
   ]
  },
  {
   "cell_type": "code",
   "execution_count": 13,
   "id": "2dc76adf",
   "metadata": {},
   "outputs": [
    {
     "data": {
      "text/plain": [
       "pandas.core.frame.DataFrame"
      ]
     },
     "execution_count": 13,
     "metadata": {},
     "output_type": "execute_result"
    }
   ],
   "source": [
    "type(fundraising)"
   ]
  },
  {
   "cell_type": "code",
   "execution_count": 14,
   "id": "0f0fe3a1",
   "metadata": {},
   "outputs": [
    {
     "data": {
      "text/plain": [
       "Year            object\n",
       "Source          object\n",
       "Revenue         object\n",
       "Expenses        object\n",
       "Asset rise      object\n",
       "Total assets    object\n",
       "dtype: object"
      ]
     },
     "execution_count": 14,
     "metadata": {},
     "output_type": "execute_result"
    }
   ],
   "source": [
    "fundraising.dtypes"
   ]
  },
  {
   "cell_type": "code",
   "execution_count": 17,
   "id": "2e405e4e",
   "metadata": {},
   "outputs": [],
   "source": [
    "fundraising['Rev']=fundraising['Revenue'].str[2:]"
   ]
  },
  {
   "cell_type": "code",
   "execution_count": 18,
   "id": "cfb33b0f",
   "metadata": {},
   "outputs": [
    {
     "data": {
      "text/html": [
       "<div>\n",
       "<style scoped>\n",
       "    .dataframe tbody tr th:only-of-type {\n",
       "        vertical-align: middle;\n",
       "    }\n",
       "\n",
       "    .dataframe tbody tr th {\n",
       "        vertical-align: top;\n",
       "    }\n",
       "\n",
       "    .dataframe thead th {\n",
       "        text-align: right;\n",
       "    }\n",
       "</style>\n",
       "<table border=\"1\" class=\"dataframe\">\n",
       "  <thead>\n",
       "    <tr style=\"text-align: right;\">\n",
       "      <th></th>\n",
       "      <th>Year</th>\n",
       "      <th>Source</th>\n",
       "      <th>Revenue</th>\n",
       "      <th>Expenses</th>\n",
       "      <th>Asset rise</th>\n",
       "      <th>Total assets</th>\n",
       "      <th>Rev</th>\n",
       "    </tr>\n",
       "  </thead>\n",
       "  <tbody>\n",
       "    <tr>\n",
       "      <th>0</th>\n",
       "      <td>2021/22</td>\n",
       "      <td>PDF</td>\n",
       "      <td>$ 154,686,521</td>\n",
       "      <td>$ 145,970,915</td>\n",
       "      <td>$ 8,173,996</td>\n",
       "      <td>$ 239,351,532</td>\n",
       "      <td>154,686,521</td>\n",
       "    </tr>\n",
       "    <tr>\n",
       "      <th>1</th>\n",
       "      <td>2020/21</td>\n",
       "      <td>PDF</td>\n",
       "      <td>$ 162,886,686</td>\n",
       "      <td>$ 111,839,819</td>\n",
       "      <td>$ 50,861,811</td>\n",
       "      <td>$ 231,177,536</td>\n",
       "      <td>162,886,686</td>\n",
       "    </tr>\n",
       "    <tr>\n",
       "      <th>2</th>\n",
       "      <td>2019/20</td>\n",
       "      <td>PDF</td>\n",
       "      <td>$ 129,234,327</td>\n",
       "      <td>$ 112,489,397</td>\n",
       "      <td>$ 14,674,300</td>\n",
       "      <td>$ 180,315,725</td>\n",
       "      <td>129,234,327</td>\n",
       "    </tr>\n",
       "    <tr>\n",
       "      <th>3</th>\n",
       "      <td>2018/19</td>\n",
       "      <td>PDF</td>\n",
       "      <td>$ 120,067,266</td>\n",
       "      <td>$ 91,414,010</td>\n",
       "      <td>$ 30,691,855</td>\n",
       "      <td>$ 165,641,425</td>\n",
       "      <td>120,067,266</td>\n",
       "    </tr>\n",
       "    <tr>\n",
       "      <th>4</th>\n",
       "      <td>2017/18</td>\n",
       "      <td>PDF</td>\n",
       "      <td>$ 104,505,783</td>\n",
       "      <td>$ 81,442,265</td>\n",
       "      <td>$ 21,619,373</td>\n",
       "      <td>$ 134,949,570</td>\n",
       "      <td>104,505,783</td>\n",
       "    </tr>\n",
       "  </tbody>\n",
       "</table>\n",
       "</div>"
      ],
      "text/plain": [
       "      Year Source        Revenue       Expenses    Asset rise   Total assets  \\\n",
       "0  2021/22    PDF  $ 154,686,521  $ 145,970,915   $ 8,173,996  $ 239,351,532   \n",
       "1  2020/21    PDF  $ 162,886,686  $ 111,839,819  $ 50,861,811  $ 231,177,536   \n",
       "2  2019/20    PDF  $ 129,234,327  $ 112,489,397  $ 14,674,300  $ 180,315,725   \n",
       "3  2018/19    PDF  $ 120,067,266   $ 91,414,010  $ 30,691,855  $ 165,641,425   \n",
       "4  2017/18    PDF  $ 104,505,783   $ 81,442,265  $ 21,619,373  $ 134,949,570   \n",
       "\n",
       "           Rev  \n",
       "0  154,686,521  \n",
       "1  162,886,686  \n",
       "2  129,234,327  \n",
       "3  120,067,266  \n",
       "4  104,505,783  "
      ]
     },
     "execution_count": 18,
     "metadata": {},
     "output_type": "execute_result"
    }
   ],
   "source": [
    "fundraising.head()"
   ]
  },
  {
   "cell_type": "code",
   "execution_count": 24,
   "id": "8df17701",
   "metadata": {},
   "outputs": [],
   "source": [
    "fundraising['Rev'] = fundraising['Rev'].str.replace(',','')"
   ]
  },
  {
   "cell_type": "code",
   "execution_count": 25,
   "id": "397bccc7",
   "metadata": {},
   "outputs": [
    {
     "data": {
      "text/html": [
       "<div>\n",
       "<style scoped>\n",
       "    .dataframe tbody tr th:only-of-type {\n",
       "        vertical-align: middle;\n",
       "    }\n",
       "\n",
       "    .dataframe tbody tr th {\n",
       "        vertical-align: top;\n",
       "    }\n",
       "\n",
       "    .dataframe thead th {\n",
       "        text-align: right;\n",
       "    }\n",
       "</style>\n",
       "<table border=\"1\" class=\"dataframe\">\n",
       "  <thead>\n",
       "    <tr style=\"text-align: right;\">\n",
       "      <th></th>\n",
       "      <th>Year</th>\n",
       "      <th>Source</th>\n",
       "      <th>Revenue</th>\n",
       "      <th>Expenses</th>\n",
       "      <th>Asset rise</th>\n",
       "      <th>Total assets</th>\n",
       "      <th>Rev</th>\n",
       "      <th>Rav</th>\n",
       "    </tr>\n",
       "  </thead>\n",
       "  <tbody>\n",
       "    <tr>\n",
       "      <th>0</th>\n",
       "      <td>2021/22</td>\n",
       "      <td>PDF</td>\n",
       "      <td>$ 154,686,521</td>\n",
       "      <td>$ 145,970,915</td>\n",
       "      <td>$ 8,173,996</td>\n",
       "      <td>$ 239,351,532</td>\n",
       "      <td>154686521</td>\n",
       "      <td>154686521</td>\n",
       "    </tr>\n",
       "    <tr>\n",
       "      <th>1</th>\n",
       "      <td>2020/21</td>\n",
       "      <td>PDF</td>\n",
       "      <td>$ 162,886,686</td>\n",
       "      <td>$ 111,839,819</td>\n",
       "      <td>$ 50,861,811</td>\n",
       "      <td>$ 231,177,536</td>\n",
       "      <td>162886686</td>\n",
       "      <td>162886686</td>\n",
       "    </tr>\n",
       "    <tr>\n",
       "      <th>2</th>\n",
       "      <td>2019/20</td>\n",
       "      <td>PDF</td>\n",
       "      <td>$ 129,234,327</td>\n",
       "      <td>$ 112,489,397</td>\n",
       "      <td>$ 14,674,300</td>\n",
       "      <td>$ 180,315,725</td>\n",
       "      <td>129234327</td>\n",
       "      <td>129234327</td>\n",
       "    </tr>\n",
       "    <tr>\n",
       "      <th>3</th>\n",
       "      <td>2018/19</td>\n",
       "      <td>PDF</td>\n",
       "      <td>$ 120,067,266</td>\n",
       "      <td>$ 91,414,010</td>\n",
       "      <td>$ 30,691,855</td>\n",
       "      <td>$ 165,641,425</td>\n",
       "      <td>120067266</td>\n",
       "      <td>120067266</td>\n",
       "    </tr>\n",
       "    <tr>\n",
       "      <th>4</th>\n",
       "      <td>2017/18</td>\n",
       "      <td>PDF</td>\n",
       "      <td>$ 104,505,783</td>\n",
       "      <td>$ 81,442,265</td>\n",
       "      <td>$ 21,619,373</td>\n",
       "      <td>$ 134,949,570</td>\n",
       "      <td>104505783</td>\n",
       "      <td>104505783</td>\n",
       "    </tr>\n",
       "  </tbody>\n",
       "</table>\n",
       "</div>"
      ],
      "text/plain": [
       "      Year Source        Revenue       Expenses    Asset rise   Total assets  \\\n",
       "0  2021/22    PDF  $ 154,686,521  $ 145,970,915   $ 8,173,996  $ 239,351,532   \n",
       "1  2020/21    PDF  $ 162,886,686  $ 111,839,819  $ 50,861,811  $ 231,177,536   \n",
       "2  2019/20    PDF  $ 129,234,327  $ 112,489,397  $ 14,674,300  $ 180,315,725   \n",
       "3  2018/19    PDF  $ 120,067,266   $ 91,414,010  $ 30,691,855  $ 165,641,425   \n",
       "4  2017/18    PDF  $ 104,505,783   $ 81,442,265  $ 21,619,373  $ 134,949,570   \n",
       "\n",
       "         Rev        Rav  \n",
       "0  154686521  154686521  \n",
       "1  162886686  162886686  \n",
       "2  129234327  129234327  \n",
       "3  120067266  120067266  \n",
       "4  104505783  104505783  "
      ]
     },
     "execution_count": 25,
     "metadata": {},
     "output_type": "execute_result"
    }
   ],
   "source": [
    "fundraising.head()"
   ]
  },
  {
   "cell_type": "code",
   "execution_count": 26,
   "id": "d2eb51ed",
   "metadata": {},
   "outputs": [],
   "source": [
    "fundraising['Rev'] = pd.to_numeric(fundraising['Rev'])"
   ]
  },
  {
   "cell_type": "code",
   "execution_count": 27,
   "id": "51ff9926",
   "metadata": {},
   "outputs": [
    {
     "data": {
      "text/html": [
       "<div>\n",
       "<style scoped>\n",
       "    .dataframe tbody tr th:only-of-type {\n",
       "        vertical-align: middle;\n",
       "    }\n",
       "\n",
       "    .dataframe tbody tr th {\n",
       "        vertical-align: top;\n",
       "    }\n",
       "\n",
       "    .dataframe thead th {\n",
       "        text-align: right;\n",
       "    }\n",
       "</style>\n",
       "<table border=\"1\" class=\"dataframe\">\n",
       "  <thead>\n",
       "    <tr style=\"text-align: right;\">\n",
       "      <th></th>\n",
       "      <th>Year</th>\n",
       "      <th>Source</th>\n",
       "      <th>Revenue</th>\n",
       "      <th>Expenses</th>\n",
       "      <th>Asset rise</th>\n",
       "      <th>Total assets</th>\n",
       "      <th>Rev</th>\n",
       "      <th>Rav</th>\n",
       "    </tr>\n",
       "  </thead>\n",
       "  <tbody>\n",
       "    <tr>\n",
       "      <th>0</th>\n",
       "      <td>2021/22</td>\n",
       "      <td>PDF</td>\n",
       "      <td>$ 154,686,521</td>\n",
       "      <td>$ 145,970,915</td>\n",
       "      <td>$ 8,173,996</td>\n",
       "      <td>$ 239,351,532</td>\n",
       "      <td>154686521</td>\n",
       "      <td>154686521</td>\n",
       "    </tr>\n",
       "    <tr>\n",
       "      <th>1</th>\n",
       "      <td>2020/21</td>\n",
       "      <td>PDF</td>\n",
       "      <td>$ 162,886,686</td>\n",
       "      <td>$ 111,839,819</td>\n",
       "      <td>$ 50,861,811</td>\n",
       "      <td>$ 231,177,536</td>\n",
       "      <td>162886686</td>\n",
       "      <td>162886686</td>\n",
       "    </tr>\n",
       "    <tr>\n",
       "      <th>2</th>\n",
       "      <td>2019/20</td>\n",
       "      <td>PDF</td>\n",
       "      <td>$ 129,234,327</td>\n",
       "      <td>$ 112,489,397</td>\n",
       "      <td>$ 14,674,300</td>\n",
       "      <td>$ 180,315,725</td>\n",
       "      <td>129234327</td>\n",
       "      <td>129234327</td>\n",
       "    </tr>\n",
       "    <tr>\n",
       "      <th>3</th>\n",
       "      <td>2018/19</td>\n",
       "      <td>PDF</td>\n",
       "      <td>$ 120,067,266</td>\n",
       "      <td>$ 91,414,010</td>\n",
       "      <td>$ 30,691,855</td>\n",
       "      <td>$ 165,641,425</td>\n",
       "      <td>120067266</td>\n",
       "      <td>120067266</td>\n",
       "    </tr>\n",
       "    <tr>\n",
       "      <th>4</th>\n",
       "      <td>2017/18</td>\n",
       "      <td>PDF</td>\n",
       "      <td>$ 104,505,783</td>\n",
       "      <td>$ 81,442,265</td>\n",
       "      <td>$ 21,619,373</td>\n",
       "      <td>$ 134,949,570</td>\n",
       "      <td>104505783</td>\n",
       "      <td>104505783</td>\n",
       "    </tr>\n",
       "  </tbody>\n",
       "</table>\n",
       "</div>"
      ],
      "text/plain": [
       "      Year Source        Revenue       Expenses    Asset rise   Total assets  \\\n",
       "0  2021/22    PDF  $ 154,686,521  $ 145,970,915   $ 8,173,996  $ 239,351,532   \n",
       "1  2020/21    PDF  $ 162,886,686  $ 111,839,819  $ 50,861,811  $ 231,177,536   \n",
       "2  2019/20    PDF  $ 129,234,327  $ 112,489,397  $ 14,674,300  $ 180,315,725   \n",
       "3  2018/19    PDF  $ 120,067,266   $ 91,414,010  $ 30,691,855  $ 165,641,425   \n",
       "4  2017/18    PDF  $ 104,505,783   $ 81,442,265  $ 21,619,373  $ 134,949,570   \n",
       "\n",
       "         Rev        Rav  \n",
       "0  154686521  154686521  \n",
       "1  162886686  162886686  \n",
       "2  129234327  129234327  \n",
       "3  120067266  120067266  \n",
       "4  104505783  104505783  "
      ]
     },
     "execution_count": 27,
     "metadata": {},
     "output_type": "execute_result"
    }
   ],
   "source": [
    "fundraising.head()"
   ]
  },
  {
   "cell_type": "code",
   "execution_count": 30,
   "id": "b84f4b2b",
   "metadata": {},
   "outputs": [
    {
     "data": {
      "text/plain": [
       "Year            object\n",
       "Source          object\n",
       "Revenue         object\n",
       "Expenses        object\n",
       "Asset rise      object\n",
       "Total assets    object\n",
       "Rev              int64\n",
       "Rav             object\n",
       "dtype: object"
      ]
     },
     "execution_count": 30,
     "metadata": {},
     "output_type": "execute_result"
    }
   ],
   "source": [
    "fundraising.dtypes"
   ]
  },
  {
   "cell_type": "code",
   "execution_count": 33,
   "id": "cb16e070",
   "metadata": {},
   "outputs": [],
   "source": [
    "fundraising['Exp'] = fundraising['Expenses'].str[2:]\n",
    "fundraising['Exp'] = fundraising['Exp'].str.replace(',','')"
   ]
  },
  {
   "cell_type": "code",
   "execution_count": 34,
   "id": "03d39d06",
   "metadata": {},
   "outputs": [
    {
     "data": {
      "text/html": [
       "<div>\n",
       "<style scoped>\n",
       "    .dataframe tbody tr th:only-of-type {\n",
       "        vertical-align: middle;\n",
       "    }\n",
       "\n",
       "    .dataframe tbody tr th {\n",
       "        vertical-align: top;\n",
       "    }\n",
       "\n",
       "    .dataframe thead th {\n",
       "        text-align: right;\n",
       "    }\n",
       "</style>\n",
       "<table border=\"1\" class=\"dataframe\">\n",
       "  <thead>\n",
       "    <tr style=\"text-align: right;\">\n",
       "      <th></th>\n",
       "      <th>Year</th>\n",
       "      <th>Source</th>\n",
       "      <th>Revenue</th>\n",
       "      <th>Expenses</th>\n",
       "      <th>Asset rise</th>\n",
       "      <th>Total assets</th>\n",
       "      <th>Rev</th>\n",
       "      <th>Rav</th>\n",
       "      <th>Exp</th>\n",
       "    </tr>\n",
       "  </thead>\n",
       "  <tbody>\n",
       "    <tr>\n",
       "      <th>0</th>\n",
       "      <td>2021/22</td>\n",
       "      <td>PDF</td>\n",
       "      <td>$ 154,686,521</td>\n",
       "      <td>$ 145,970,915</td>\n",
       "      <td>$ 8,173,996</td>\n",
       "      <td>$ 239,351,532</td>\n",
       "      <td>154686521</td>\n",
       "      <td>154686521</td>\n",
       "      <td>145970915</td>\n",
       "    </tr>\n",
       "    <tr>\n",
       "      <th>1</th>\n",
       "      <td>2020/21</td>\n",
       "      <td>PDF</td>\n",
       "      <td>$ 162,886,686</td>\n",
       "      <td>$ 111,839,819</td>\n",
       "      <td>$ 50,861,811</td>\n",
       "      <td>$ 231,177,536</td>\n",
       "      <td>162886686</td>\n",
       "      <td>162886686</td>\n",
       "      <td>111839819</td>\n",
       "    </tr>\n",
       "    <tr>\n",
       "      <th>2</th>\n",
       "      <td>2019/20</td>\n",
       "      <td>PDF</td>\n",
       "      <td>$ 129,234,327</td>\n",
       "      <td>$ 112,489,397</td>\n",
       "      <td>$ 14,674,300</td>\n",
       "      <td>$ 180,315,725</td>\n",
       "      <td>129234327</td>\n",
       "      <td>129234327</td>\n",
       "      <td>112489397</td>\n",
       "    </tr>\n",
       "    <tr>\n",
       "      <th>3</th>\n",
       "      <td>2018/19</td>\n",
       "      <td>PDF</td>\n",
       "      <td>$ 120,067,266</td>\n",
       "      <td>$ 91,414,010</td>\n",
       "      <td>$ 30,691,855</td>\n",
       "      <td>$ 165,641,425</td>\n",
       "      <td>120067266</td>\n",
       "      <td>120067266</td>\n",
       "      <td>91414010</td>\n",
       "    </tr>\n",
       "    <tr>\n",
       "      <th>4</th>\n",
       "      <td>2017/18</td>\n",
       "      <td>PDF</td>\n",
       "      <td>$ 104,505,783</td>\n",
       "      <td>$ 81,442,265</td>\n",
       "      <td>$ 21,619,373</td>\n",
       "      <td>$ 134,949,570</td>\n",
       "      <td>104505783</td>\n",
       "      <td>104505783</td>\n",
       "      <td>81442265</td>\n",
       "    </tr>\n",
       "  </tbody>\n",
       "</table>\n",
       "</div>"
      ],
      "text/plain": [
       "      Year Source        Revenue       Expenses    Asset rise   Total assets  \\\n",
       "0  2021/22    PDF  $ 154,686,521  $ 145,970,915   $ 8,173,996  $ 239,351,532   \n",
       "1  2020/21    PDF  $ 162,886,686  $ 111,839,819  $ 50,861,811  $ 231,177,536   \n",
       "2  2019/20    PDF  $ 129,234,327  $ 112,489,397  $ 14,674,300  $ 180,315,725   \n",
       "3  2018/19    PDF  $ 120,067,266   $ 91,414,010  $ 30,691,855  $ 165,641,425   \n",
       "4  2017/18    PDF  $ 104,505,783   $ 81,442,265  $ 21,619,373  $ 134,949,570   \n",
       "\n",
       "         Rev        Rav        Exp  \n",
       "0  154686521  154686521  145970915  \n",
       "1  162886686  162886686  111839819  \n",
       "2  129234327  129234327  112489397  \n",
       "3  120067266  120067266   91414010  \n",
       "4  104505783  104505783   81442265  "
      ]
     },
     "execution_count": 34,
     "metadata": {},
     "output_type": "execute_result"
    }
   ],
   "source": [
    "fundraising.head()"
   ]
  },
  {
   "cell_type": "code",
   "execution_count": 35,
   "id": "9a54f679",
   "metadata": {},
   "outputs": [],
   "source": [
    "fundraising['Exp'] = pd.to_numeric(fundraising['Exp'],errors='coerce')"
   ]
  },
  {
   "cell_type": "code",
   "execution_count": 36,
   "id": "c802e718",
   "metadata": {},
   "outputs": [
    {
     "data": {
      "text/html": [
       "<div>\n",
       "<style scoped>\n",
       "    .dataframe tbody tr th:only-of-type {\n",
       "        vertical-align: middle;\n",
       "    }\n",
       "\n",
       "    .dataframe tbody tr th {\n",
       "        vertical-align: top;\n",
       "    }\n",
       "\n",
       "    .dataframe thead th {\n",
       "        text-align: right;\n",
       "    }\n",
       "</style>\n",
       "<table border=\"1\" class=\"dataframe\">\n",
       "  <thead>\n",
       "    <tr style=\"text-align: right;\">\n",
       "      <th></th>\n",
       "      <th>Year</th>\n",
       "      <th>Source</th>\n",
       "      <th>Revenue</th>\n",
       "      <th>Expenses</th>\n",
       "      <th>Asset rise</th>\n",
       "      <th>Total assets</th>\n",
       "      <th>Rev</th>\n",
       "      <th>Rav</th>\n",
       "      <th>Exp</th>\n",
       "    </tr>\n",
       "  </thead>\n",
       "  <tbody>\n",
       "    <tr>\n",
       "      <th>0</th>\n",
       "      <td>2021/22</td>\n",
       "      <td>PDF</td>\n",
       "      <td>$ 154,686,521</td>\n",
       "      <td>$ 145,970,915</td>\n",
       "      <td>$ 8,173,996</td>\n",
       "      <td>$ 239,351,532</td>\n",
       "      <td>154686521</td>\n",
       "      <td>154686521</td>\n",
       "      <td>145970915</td>\n",
       "    </tr>\n",
       "    <tr>\n",
       "      <th>1</th>\n",
       "      <td>2020/21</td>\n",
       "      <td>PDF</td>\n",
       "      <td>$ 162,886,686</td>\n",
       "      <td>$ 111,839,819</td>\n",
       "      <td>$ 50,861,811</td>\n",
       "      <td>$ 231,177,536</td>\n",
       "      <td>162886686</td>\n",
       "      <td>162886686</td>\n",
       "      <td>111839819</td>\n",
       "    </tr>\n",
       "    <tr>\n",
       "      <th>2</th>\n",
       "      <td>2019/20</td>\n",
       "      <td>PDF</td>\n",
       "      <td>$ 129,234,327</td>\n",
       "      <td>$ 112,489,397</td>\n",
       "      <td>$ 14,674,300</td>\n",
       "      <td>$ 180,315,725</td>\n",
       "      <td>129234327</td>\n",
       "      <td>129234327</td>\n",
       "      <td>112489397</td>\n",
       "    </tr>\n",
       "    <tr>\n",
       "      <th>3</th>\n",
       "      <td>2018/19</td>\n",
       "      <td>PDF</td>\n",
       "      <td>$ 120,067,266</td>\n",
       "      <td>$ 91,414,010</td>\n",
       "      <td>$ 30,691,855</td>\n",
       "      <td>$ 165,641,425</td>\n",
       "      <td>120067266</td>\n",
       "      <td>120067266</td>\n",
       "      <td>91414010</td>\n",
       "    </tr>\n",
       "    <tr>\n",
       "      <th>4</th>\n",
       "      <td>2017/18</td>\n",
       "      <td>PDF</td>\n",
       "      <td>$ 104,505,783</td>\n",
       "      <td>$ 81,442,265</td>\n",
       "      <td>$ 21,619,373</td>\n",
       "      <td>$ 134,949,570</td>\n",
       "      <td>104505783</td>\n",
       "      <td>104505783</td>\n",
       "      <td>81442265</td>\n",
       "    </tr>\n",
       "  </tbody>\n",
       "</table>\n",
       "</div>"
      ],
      "text/plain": [
       "      Year Source        Revenue       Expenses    Asset rise   Total assets  \\\n",
       "0  2021/22    PDF  $ 154,686,521  $ 145,970,915   $ 8,173,996  $ 239,351,532   \n",
       "1  2020/21    PDF  $ 162,886,686  $ 111,839,819  $ 50,861,811  $ 231,177,536   \n",
       "2  2019/20    PDF  $ 129,234,327  $ 112,489,397  $ 14,674,300  $ 180,315,725   \n",
       "3  2018/19    PDF  $ 120,067,266   $ 91,414,010  $ 30,691,855  $ 165,641,425   \n",
       "4  2017/18    PDF  $ 104,505,783   $ 81,442,265  $ 21,619,373  $ 134,949,570   \n",
       "\n",
       "         Rev        Rav        Exp  \n",
       "0  154686521  154686521  145970915  \n",
       "1  162886686  162886686  111839819  \n",
       "2  129234327  129234327  112489397  \n",
       "3  120067266  120067266   91414010  \n",
       "4  104505783  104505783   81442265  "
      ]
     },
     "execution_count": 36,
     "metadata": {},
     "output_type": "execute_result"
    }
   ],
   "source": [
    "fundraising.head()"
   ]
  },
  {
   "cell_type": "code",
   "execution_count": 38,
   "id": "c6f35076",
   "metadata": {},
   "outputs": [
    {
     "data": {
      "text/plain": [
       "Year            object\n",
       "Source          object\n",
       "Revenue         object\n",
       "Expenses        object\n",
       "Asset rise      object\n",
       "Total assets    object\n",
       "Rev              int64\n",
       "Rav             object\n",
       "Exp              int64\n",
       "dtype: object"
      ]
     },
     "execution_count": 38,
     "metadata": {},
     "output_type": "execute_result"
    }
   ],
   "source": [
    "fundraising.dtypes"
   ]
  },
  {
   "cell_type": "code",
   "execution_count": null,
   "id": "9789a5fa",
   "metadata": {},
   "outputs": [],
   "source": []
  }
 ],
 "metadata": {
  "kernelspec": {
   "display_name": "Python 3 (ipykernel)",
   "language": "python",
   "name": "python3"
  },
  "language_info": {
   "codemirror_mode": {
    "name": "ipython",
    "version": 3
   },
   "file_extension": ".py",
   "mimetype": "text/x-python",
   "name": "python",
   "nbconvert_exporter": "python",
   "pygments_lexer": "ipython3",
   "version": "3.10.5"
  }
 },
 "nbformat": 4,
 "nbformat_minor": 5
}

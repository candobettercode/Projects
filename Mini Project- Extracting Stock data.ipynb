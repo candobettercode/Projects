{
 "cells": [
  {
   "cell_type": "code",
   "execution_count": 1,
   "id": "0a08f3d9",
   "metadata": {},
   "outputs": [
    {
     "name": "stdout",
     "output_type": "stream",
     "text": [
      "Collecting yfinance\n",
      "  Downloading yfinance-0.2.11-py2.py3-none-any.whl (59 kB)\n",
      "     ---------------------------------------- 59.2/59.2 KB 3.1 MB/s eta 0:00:00\n",
      "Collecting appdirs>=1.4.4\n",
      "  Downloading appdirs-1.4.4-py2.py3-none-any.whl (9.6 kB)\n",
      "Collecting pytz>=2022.5\n",
      "  Downloading pytz-2022.7.1-py2.py3-none-any.whl (499 kB)\n",
      "     -------------------------------------- 499.4/499.4 KB 7.8 MB/s eta 0:00:00\n",
      "Requirement already satisfied: cryptography>=3.3.2 in c:\\users\\hari om\\appdata\\local\\programs\\python\\python310\\lib\\site-packages (from yfinance) (39.0.1)\n",
      "Requirement already satisfied: numpy>=1.16.5 in c:\\users\\hari om\\appdata\\local\\programs\\python\\python310\\lib\\site-packages (from yfinance) (1.23.1)\n",
      "Requirement already satisfied: requests>=2.26 in c:\\users\\hari om\\appdata\\local\\programs\\python\\python310\\lib\\site-packages (from yfinance) (2.28.2)\n",
      "Collecting lxml>=4.9.1\n",
      "  Downloading lxml-4.9.2-cp310-cp310-win_amd64.whl (3.8 MB)\n",
      "     ---------------------------------------- 3.8/3.8 MB 6.2 MB/s eta 0:00:00\n",
      "Requirement already satisfied: beautifulsoup4>=4.11.1 in c:\\users\\hari om\\appdata\\local\\programs\\python\\python310\\lib\\site-packages (from yfinance) (4.11.2)\n",
      "Collecting frozendict>=2.3.4\n",
      "  Downloading frozendict-2.3.4-cp310-cp310-win_amd64.whl (35 kB)\n",
      "Requirement already satisfied: pandas>=1.3.0 in c:\\users\\hari om\\appdata\\local\\programs\\python\\python310\\lib\\site-packages (from yfinance) (1.4.3)\n",
      "Collecting multitasking>=0.0.7\n",
      "  Downloading multitasking-0.0.11-py3-none-any.whl (8.5 kB)\n",
      "Collecting html5lib>=1.1\n",
      "  Using cached html5lib-1.1-py2.py3-none-any.whl (112 kB)\n",
      "Requirement already satisfied: soupsieve>1.2 in c:\\users\\hari om\\appdata\\local\\programs\\python\\python310\\lib\\site-packages (from beautifulsoup4>=4.11.1->yfinance) (2.3.2.post1)\n",
      "Requirement already satisfied: cffi>=1.12 in c:\\users\\hari om\\appdata\\local\\programs\\python\\python310\\lib\\site-packages (from cryptography>=3.3.2->yfinance) (1.15.1)\n",
      "Requirement already satisfied: webencodings in c:\\users\\hari om\\appdata\\local\\programs\\python\\python310\\lib\\site-packages (from html5lib>=1.1->yfinance) (0.5.1)\n",
      "Requirement already satisfied: six>=1.9 in c:\\users\\hari om\\appdata\\local\\programs\\python\\python310\\lib\\site-packages (from html5lib>=1.1->yfinance) (1.16.0)\n",
      "Requirement already satisfied: python-dateutil>=2.8.1 in c:\\users\\hari om\\appdata\\local\\programs\\python\\python310\\lib\\site-packages (from pandas>=1.3.0->yfinance) (2.8.2)\n",
      "Requirement already satisfied: idna<4,>=2.5 in c:\\users\\hari om\\appdata\\local\\programs\\python\\python310\\lib\\site-packages (from requests>=2.26->yfinance) (3.4)\n",
      "Requirement already satisfied: certifi>=2017.4.17 in c:\\users\\hari om\\appdata\\local\\programs\\python\\python310\\lib\\site-packages (from requests>=2.26->yfinance) (2022.12.7)\n",
      "Requirement already satisfied: charset-normalizer<4,>=2 in c:\\users\\hari om\\appdata\\local\\programs\\python\\python310\\lib\\site-packages (from requests>=2.26->yfinance) (3.0.1)\n",
      "Requirement already satisfied: urllib3<1.27,>=1.21.1 in c:\\users\\hari om\\appdata\\local\\programs\\python\\python310\\lib\\site-packages (from requests>=2.26->yfinance) (1.26.14)\n",
      "Requirement already satisfied: pycparser in c:\\users\\hari om\\appdata\\local\\programs\\python\\python310\\lib\\site-packages (from cffi>=1.12->cryptography>=3.3.2->yfinance) (2.21)\n",
      "Installing collected packages: pytz, multitasking, appdirs, lxml, html5lib, frozendict, yfinance\n",
      "  Attempting uninstall: pytz\n",
      "    Found existing installation: pytz 2022.2\n",
      "    Uninstalling pytz-2022.2:\n",
      "      Successfully uninstalled pytz-2022.2\n",
      "Successfully installed appdirs-1.4.4 frozendict-2.3.4 html5lib-1.1 lxml-4.9.2 multitasking-0.0.11 pytz-2022.7.1 yfinance-0.2.11\n",
      "Note: you may need to restart the kernel to use updated packages.\n"
     ]
    },
    {
     "name": "stderr",
     "output_type": "stream",
     "text": [
      "WARNING: You are using pip version 22.0.4; however, version 23.0 is available.\n",
      "You should consider upgrading via the 'C:\\Users\\Hari Om\\AppData\\Local\\Programs\\Python\\Python310\\python.exe -m pip install --upgrade pip' command.\n"
     ]
    }
   ],
   "source": [
    "%pip install yfinance"
   ]
  },
  {
   "cell_type": "code",
   "execution_count": 3,
   "id": "00603dc3",
   "metadata": {},
   "outputs": [],
   "source": [
    "import pandas as pd\n",
    "import yfinance as yf"
   ]
  },
  {
   "cell_type": "code",
   "execution_count": 6,
   "id": "80eb1ea7",
   "metadata": {},
   "outputs": [],
   "source": [
    "apple = yf.Ticker(\"AAPL\")"
   ]
  },
  {
   "cell_type": "code",
   "execution_count": 9,
   "id": "8815eac3",
   "metadata": {},
   "outputs": [],
   "source": [
    "apple_info= apple.info"
   ]
  },
  {
   "cell_type": "code",
   "execution_count": 10,
   "id": "77b19286",
   "metadata": {},
   "outputs": [
    {
     "data": {
      "text/plain": [
       "{'zip': '95014', 'sector': 'Technology', 'fullTimeEmployees': 164000, 'longBusinessSummary': 'Apple Inc. designs, manufactures, and markets smartphones, personal computers, tablets, wearables, and accessories worldwide. It also sells various related services. In addition, the company offers iPhone, a line of smartphones; Mac, a line of personal computers; iPad, a line of multi-purpose tablets; and wearables, home, and accessories comprising AirPods, Apple TV, Apple Watch, Beats products, and HomePod. Further, it provides AppleCare support and cloud services store services; and operates various platforms, including the App Store that allow customers to discover and download applications and digital content, such as books, music, video, games, and podcasts. Additionally, the company offers various services, such as Apple Arcade, a game subscription service; Apple Fitness+, a personalized fitness service; Apple Music, which offers users a curated listening experience with on-demand radio stations; Apple News+, a subscription news and magazine service; Apple TV+, which offers exclusive original content; Apple Card, a co-branded credit card; and Apple Pay, a cashless payment service, as well as licenses its intellectual property. The company serves consumers, and small and mid-sized businesses; and the education, enterprise, and government markets. It distributes third-party applications for its products through the App Store. The company also sells its products through its retail and online stores, and direct sales force; and third-party cellular network carriers, wholesalers, retailers, and resellers. Apple Inc. was incorporated in 1977 and is headquartered in Cupertino, California.', 'city': 'Cupertino', 'phone': '408 996 1010', 'state': 'CA', 'country': 'United States', 'companyOfficers': [], 'website': 'https://www.apple.com', 'maxAge': 1, 'address1': 'One Apple Park Way', 'industry': 'Consumer Electronics', 'ebitdaMargins': 0.32329, 'profitMargins': 0.24558, 'grossMargins': 0.43058997, 'operatingCashflow': 109189996544, 'revenueGrowth': -0.055, 'operatingMargins': 0.29408002, 'ebitda': 125287997440, 'targetLowPrice': 118, 'recommendationKey': 'buy', 'grossProfits': 170782000000, 'freeCashflow': 84729126912, 'targetMedianPrice': 173, 'earningsGrowth': -0.105, 'currentRatio': 0.938, 'returnOnAssets': 0.19569999, 'numberOfAnalystOpinions': 38, 'targetMeanPrice': 169.39, 'debtToEquity': 195.868, 'returnOnEquity': 1.47943, 'targetHighPrice': 210, 'totalCash': 51355000832, 'totalDebt': 111109996544, 'totalRevenue': 387537010688, 'totalCashPerShare': 3.246, 'financialCurrency': 'USD', 'revenuePerShare': 24.084, 'quickRatio': 0.769, 'recommendationMean': 1.9, 'shortName': 'Apple Inc.', 'longName': 'Apple Inc.', 'isEsgPopulated': False, 'gmtOffSetMilliseconds': '-18000000', 'messageBoardId': 'finmb_24937', 'market': 'us_market', 'annualHoldingsTurnover': None, 'enterpriseToRevenue': 6.409, 'beta3Year': None, 'enterpriseToEbitda': 19.824, 'morningStarRiskRating': None, 'forwardEps': 6.58, 'revenueQuarterlyGrowth': None, 'sharesOutstanding': 15821899776, 'fundInceptionDate': None, 'annualReportExpenseRatio': None, 'totalAssets': None, 'bookValue': 3.581, 'sharesShort': 115480341, 'sharesPercentSharesOut': 0.0073, 'fundFamily': None, 'lastFiscalYearEnd': 1663977600, 'heldPercentInstitutions': 0.61133, 'netIncomeToCommon': 95171002368, 'trailingEps': 5.89, 'lastDividendValue': 0.23, 'SandP52WeekChange': -0.075727224, 'priceToBook': 43.059204, 'heldPercentInsiders': 0.00072999997, 'nextFiscalYearEnd': 1695513600, 'yield': None, 'mostRecentQuarter': 1672444800, 'shortRatio': 1.6, 'sharesShortPreviousMonthDate': 1672358400, 'floatShares': 15805174737, 'beta': 1.277894, 'enterpriseValue': 2483677036544, 'priceHint': 2, 'threeYearAverageReturn': None, 'lastSplitDate': 1598832000, 'lastSplitFactor': '4:1', 'legalType': None, 'lastDividendDate': 1675987200, 'morningStarOverallRating': None, 'earningsQuarterlyGrowth': -0.134, 'priceToSalesTrailing12Months': 6.2959027, 'dateShortInterest': 1675123200, 'pegRatio': 3.16, 'ytdReturn': None, 'forwardPE': 23.43617, 'lastCapGain': None, 'shortPercentOfFloat': 0.0073, 'sharesShortPriorMonth': 124024570, 'impliedSharesOutstanding': 0, 'category': None, 'fiveYearAverageReturn': None, 'trailingAnnualDividendYield': 0.005939948, 'payoutRatio': 0.1545, 'navPrice': None, 'trailingAnnualDividendRate': 0.91, 'toCurrency': None, 'expireDate': None, 'algorithm': None, 'dividendRate': 0.92, 'exDividendDate': 1675987200, 'circulatingSupply': None, 'startDate': None, 'trailingPE': 26.181665, 'lastMarket': None, 'maxSupply': None, 'openInterest': None, 'volumeAllCurrencies': None, 'strikePrice': None, 'ask': 153.06, 'askSize': 1200, 'fromCurrency': None, 'fiveYearAvgDividendYield': 0.96, 'bid': 153.1, 'tradeable': False, 'dividendYield': 0.006, 'bidSize': 1400, 'coinMarketCapLink': None, 'preMarketPrice': 153.12, 'logo_url': 'https://logo.clearbit.com/apple.com', 'trailingPegRatio': 2.4749}"
      ]
     },
     "execution_count": 10,
     "metadata": {},
     "output_type": "execute_result"
    }
   ],
   "source": [
    "apple_info"
   ]
  },
  {
   "cell_type": "code",
   "execution_count": 11,
   "id": "4a811e17",
   "metadata": {},
   "outputs": [
    {
     "data": {
      "text/plain": [
       "'United States'"
      ]
     },
     "execution_count": 11,
     "metadata": {},
     "output_type": "execute_result"
    }
   ],
   "source": [
    "apple_info['country']"
   ]
  },
  {
   "cell_type": "code",
   "execution_count": 12,
   "id": "390ea73a",
   "metadata": {},
   "outputs": [],
   "source": [
    "apple_share_price_data = apple.history(period=\"max\")"
   ]
  },
  {
   "cell_type": "code",
   "execution_count": 13,
   "id": "98e7f1df",
   "metadata": {},
   "outputs": [
    {
     "data": {
      "text/html": [
       "<div>\n",
       "<style scoped>\n",
       "    .dataframe tbody tr th:only-of-type {\n",
       "        vertical-align: middle;\n",
       "    }\n",
       "\n",
       "    .dataframe tbody tr th {\n",
       "        vertical-align: top;\n",
       "    }\n",
       "\n",
       "    .dataframe thead th {\n",
       "        text-align: right;\n",
       "    }\n",
       "</style>\n",
       "<table border=\"1\" class=\"dataframe\">\n",
       "  <thead>\n",
       "    <tr style=\"text-align: right;\">\n",
       "      <th></th>\n",
       "      <th>Open</th>\n",
       "      <th>High</th>\n",
       "      <th>Low</th>\n",
       "      <th>Close</th>\n",
       "      <th>Volume</th>\n",
       "      <th>Dividends</th>\n",
       "      <th>Stock Splits</th>\n",
       "    </tr>\n",
       "    <tr>\n",
       "      <th>Date</th>\n",
       "      <th></th>\n",
       "      <th></th>\n",
       "      <th></th>\n",
       "      <th></th>\n",
       "      <th></th>\n",
       "      <th></th>\n",
       "      <th></th>\n",
       "    </tr>\n",
       "  </thead>\n",
       "  <tbody>\n",
       "    <tr>\n",
       "      <th>1980-12-12 00:00:00-05:00</th>\n",
       "      <td>0.099722</td>\n",
       "      <td>0.100155</td>\n",
       "      <td>0.099722</td>\n",
       "      <td>0.099722</td>\n",
       "      <td>469033600</td>\n",
       "      <td>0.0</td>\n",
       "      <td>0.0</td>\n",
       "    </tr>\n",
       "    <tr>\n",
       "      <th>1980-12-15 00:00:00-05:00</th>\n",
       "      <td>0.094953</td>\n",
       "      <td>0.094953</td>\n",
       "      <td>0.094519</td>\n",
       "      <td>0.094519</td>\n",
       "      <td>175884800</td>\n",
       "      <td>0.0</td>\n",
       "      <td>0.0</td>\n",
       "    </tr>\n",
       "    <tr>\n",
       "      <th>1980-12-16 00:00:00-05:00</th>\n",
       "      <td>0.088015</td>\n",
       "      <td>0.088015</td>\n",
       "      <td>0.087582</td>\n",
       "      <td>0.087582</td>\n",
       "      <td>105728000</td>\n",
       "      <td>0.0</td>\n",
       "      <td>0.0</td>\n",
       "    </tr>\n",
       "    <tr>\n",
       "      <th>1980-12-17 00:00:00-05:00</th>\n",
       "      <td>0.089749</td>\n",
       "      <td>0.090183</td>\n",
       "      <td>0.089749</td>\n",
       "      <td>0.089749</td>\n",
       "      <td>86441600</td>\n",
       "      <td>0.0</td>\n",
       "      <td>0.0</td>\n",
       "    </tr>\n",
       "    <tr>\n",
       "      <th>1980-12-18 00:00:00-05:00</th>\n",
       "      <td>0.092351</td>\n",
       "      <td>0.092785</td>\n",
       "      <td>0.092351</td>\n",
       "      <td>0.092351</td>\n",
       "      <td>73449600</td>\n",
       "      <td>0.0</td>\n",
       "      <td>0.0</td>\n",
       "    </tr>\n",
       "  </tbody>\n",
       "</table>\n",
       "</div>"
      ],
      "text/plain": [
       "                               Open      High       Low     Close     Volume  \\\n",
       "Date                                                                           \n",
       "1980-12-12 00:00:00-05:00  0.099722  0.100155  0.099722  0.099722  469033600   \n",
       "1980-12-15 00:00:00-05:00  0.094953  0.094953  0.094519  0.094519  175884800   \n",
       "1980-12-16 00:00:00-05:00  0.088015  0.088015  0.087582  0.087582  105728000   \n",
       "1980-12-17 00:00:00-05:00  0.089749  0.090183  0.089749  0.089749   86441600   \n",
       "1980-12-18 00:00:00-05:00  0.092351  0.092785  0.092351  0.092351   73449600   \n",
       "\n",
       "                           Dividends  Stock Splits  \n",
       "Date                                                \n",
       "1980-12-12 00:00:00-05:00        0.0           0.0  \n",
       "1980-12-15 00:00:00-05:00        0.0           0.0  \n",
       "1980-12-16 00:00:00-05:00        0.0           0.0  \n",
       "1980-12-17 00:00:00-05:00        0.0           0.0  \n",
       "1980-12-18 00:00:00-05:00        0.0           0.0  "
      ]
     },
     "execution_count": 13,
     "metadata": {},
     "output_type": "execute_result"
    }
   ],
   "source": [
    "apple_share_price_data.head()"
   ]
  },
  {
   "cell_type": "code",
   "execution_count": 14,
   "id": "8a4be237",
   "metadata": {},
   "outputs": [
    {
     "data": {
      "text/plain": [
       "(10633, 7)"
      ]
     },
     "execution_count": 14,
     "metadata": {},
     "output_type": "execute_result"
    }
   ],
   "source": [
    "apple_share_price_data.shape"
   ]
  },
  {
   "cell_type": "code",
   "execution_count": 15,
   "id": "230b9b38",
   "metadata": {},
   "outputs": [],
   "source": [
    "apple_share_price_data.reset_index(inplace=True)"
   ]
  },
  {
   "cell_type": "code",
   "execution_count": 16,
   "id": "85d28f8a",
   "metadata": {},
   "outputs": [
    {
     "data": {
      "text/html": [
       "<div>\n",
       "<style scoped>\n",
       "    .dataframe tbody tr th:only-of-type {\n",
       "        vertical-align: middle;\n",
       "    }\n",
       "\n",
       "    .dataframe tbody tr th {\n",
       "        vertical-align: top;\n",
       "    }\n",
       "\n",
       "    .dataframe thead th {\n",
       "        text-align: right;\n",
       "    }\n",
       "</style>\n",
       "<table border=\"1\" class=\"dataframe\">\n",
       "  <thead>\n",
       "    <tr style=\"text-align: right;\">\n",
       "      <th></th>\n",
       "      <th>Date</th>\n",
       "      <th>Open</th>\n",
       "      <th>High</th>\n",
       "      <th>Low</th>\n",
       "      <th>Close</th>\n",
       "      <th>Volume</th>\n",
       "      <th>Dividends</th>\n",
       "      <th>Stock Splits</th>\n",
       "    </tr>\n",
       "  </thead>\n",
       "  <tbody>\n",
       "    <tr>\n",
       "      <th>0</th>\n",
       "      <td>1980-12-12 00:00:00-05:00</td>\n",
       "      <td>0.099722</td>\n",
       "      <td>0.100155</td>\n",
       "      <td>0.099722</td>\n",
       "      <td>0.099722</td>\n",
       "      <td>469033600</td>\n",
       "      <td>0.00</td>\n",
       "      <td>0.0</td>\n",
       "    </tr>\n",
       "    <tr>\n",
       "      <th>1</th>\n",
       "      <td>1980-12-15 00:00:00-05:00</td>\n",
       "      <td>0.094953</td>\n",
       "      <td>0.094953</td>\n",
       "      <td>0.094519</td>\n",
       "      <td>0.094519</td>\n",
       "      <td>175884800</td>\n",
       "      <td>0.00</td>\n",
       "      <td>0.0</td>\n",
       "    </tr>\n",
       "    <tr>\n",
       "      <th>2</th>\n",
       "      <td>1980-12-16 00:00:00-05:00</td>\n",
       "      <td>0.088015</td>\n",
       "      <td>0.088015</td>\n",
       "      <td>0.087582</td>\n",
       "      <td>0.087582</td>\n",
       "      <td>105728000</td>\n",
       "      <td>0.00</td>\n",
       "      <td>0.0</td>\n",
       "    </tr>\n",
       "    <tr>\n",
       "      <th>3</th>\n",
       "      <td>1980-12-17 00:00:00-05:00</td>\n",
       "      <td>0.089749</td>\n",
       "      <td>0.090183</td>\n",
       "      <td>0.089749</td>\n",
       "      <td>0.089749</td>\n",
       "      <td>86441600</td>\n",
       "      <td>0.00</td>\n",
       "      <td>0.0</td>\n",
       "    </tr>\n",
       "    <tr>\n",
       "      <th>4</th>\n",
       "      <td>1980-12-18 00:00:00-05:00</td>\n",
       "      <td>0.092351</td>\n",
       "      <td>0.092785</td>\n",
       "      <td>0.092351</td>\n",
       "      <td>0.092351</td>\n",
       "      <td>73449600</td>\n",
       "      <td>0.00</td>\n",
       "      <td>0.0</td>\n",
       "    </tr>\n",
       "    <tr>\n",
       "      <th>...</th>\n",
       "      <td>...</td>\n",
       "      <td>...</td>\n",
       "      <td>...</td>\n",
       "      <td>...</td>\n",
       "      <td>...</td>\n",
       "      <td>...</td>\n",
       "      <td>...</td>\n",
       "      <td>...</td>\n",
       "    </tr>\n",
       "    <tr>\n",
       "      <th>10628</th>\n",
       "      <td>2023-02-08 00:00:00-05:00</td>\n",
       "      <td>153.645419</td>\n",
       "      <td>154.344349</td>\n",
       "      <td>150.939544</td>\n",
       "      <td>151.688400</td>\n",
       "      <td>64120100</td>\n",
       "      <td>0.00</td>\n",
       "      <td>0.0</td>\n",
       "    </tr>\n",
       "    <tr>\n",
       "      <th>10629</th>\n",
       "      <td>2023-02-09 00:00:00-05:00</td>\n",
       "      <td>153.545567</td>\n",
       "      <td>154.094731</td>\n",
       "      <td>150.190688</td>\n",
       "      <td>150.639999</td>\n",
       "      <td>56007100</td>\n",
       "      <td>0.00</td>\n",
       "      <td>0.0</td>\n",
       "    </tr>\n",
       "    <tr>\n",
       "      <th>10630</th>\n",
       "      <td>2023-02-10 00:00:00-05:00</td>\n",
       "      <td>149.460007</td>\n",
       "      <td>151.339996</td>\n",
       "      <td>149.220001</td>\n",
       "      <td>151.009995</td>\n",
       "      <td>57409100</td>\n",
       "      <td>0.23</td>\n",
       "      <td>0.0</td>\n",
       "    </tr>\n",
       "    <tr>\n",
       "      <th>10631</th>\n",
       "      <td>2023-02-13 00:00:00-05:00</td>\n",
       "      <td>150.949997</td>\n",
       "      <td>154.259995</td>\n",
       "      <td>150.919998</td>\n",
       "      <td>153.850006</td>\n",
       "      <td>62199000</td>\n",
       "      <td>0.00</td>\n",
       "      <td>0.0</td>\n",
       "    </tr>\n",
       "    <tr>\n",
       "      <th>10632</th>\n",
       "      <td>2023-02-14 00:00:00-05:00</td>\n",
       "      <td>152.119995</td>\n",
       "      <td>153.770004</td>\n",
       "      <td>150.860001</td>\n",
       "      <td>153.199997</td>\n",
       "      <td>61627300</td>\n",
       "      <td>0.00</td>\n",
       "      <td>0.0</td>\n",
       "    </tr>\n",
       "  </tbody>\n",
       "</table>\n",
       "<p>10633 rows × 8 columns</p>\n",
       "</div>"
      ],
      "text/plain": [
       "                           Date        Open        High         Low  \\\n",
       "0     1980-12-12 00:00:00-05:00    0.099722    0.100155    0.099722   \n",
       "1     1980-12-15 00:00:00-05:00    0.094953    0.094953    0.094519   \n",
       "2     1980-12-16 00:00:00-05:00    0.088015    0.088015    0.087582   \n",
       "3     1980-12-17 00:00:00-05:00    0.089749    0.090183    0.089749   \n",
       "4     1980-12-18 00:00:00-05:00    0.092351    0.092785    0.092351   \n",
       "...                         ...         ...         ...         ...   \n",
       "10628 2023-02-08 00:00:00-05:00  153.645419  154.344349  150.939544   \n",
       "10629 2023-02-09 00:00:00-05:00  153.545567  154.094731  150.190688   \n",
       "10630 2023-02-10 00:00:00-05:00  149.460007  151.339996  149.220001   \n",
       "10631 2023-02-13 00:00:00-05:00  150.949997  154.259995  150.919998   \n",
       "10632 2023-02-14 00:00:00-05:00  152.119995  153.770004  150.860001   \n",
       "\n",
       "            Close     Volume  Dividends  Stock Splits  \n",
       "0        0.099722  469033600       0.00           0.0  \n",
       "1        0.094519  175884800       0.00           0.0  \n",
       "2        0.087582  105728000       0.00           0.0  \n",
       "3        0.089749   86441600       0.00           0.0  \n",
       "4        0.092351   73449600       0.00           0.0  \n",
       "...           ...        ...        ...           ...  \n",
       "10628  151.688400   64120100       0.00           0.0  \n",
       "10629  150.639999   56007100       0.00           0.0  \n",
       "10630  151.009995   57409100       0.23           0.0  \n",
       "10631  153.850006   62199000       0.00           0.0  \n",
       "10632  153.199997   61627300       0.00           0.0  \n",
       "\n",
       "[10633 rows x 8 columns]"
      ]
     },
     "execution_count": 16,
     "metadata": {},
     "output_type": "execute_result"
    }
   ],
   "source": [
    "apple_share_price_data"
   ]
  },
  {
   "cell_type": "code",
   "execution_count": 17,
   "id": "1ba142c8",
   "metadata": {},
   "outputs": [
    {
     "data": {
      "text/plain": [
       "<AxesSubplot: xlabel='Date'>"
      ]
     },
     "execution_count": 17,
     "metadata": {},
     "output_type": "execute_result"
    },
    {
     "data": {
      "image/png": "[encoded data removed]",
      "text/plain": [
       "<Figure size 640x480 with 1 Axes>"
      ]
     },
     "metadata": {},
     "output_type": "display_data"
    }
   ],
   "source": [
    "apple_share_price_data.plot(x=\"Date\", y=\"Open\")"
   ]
  },
  {
   "cell_type": "code",
   "execution_count": 19,
   "id": "daeb09af",
   "metadata": {},
   "outputs": [
    {
     "data": {
      "text/plain": [
       "Date\n",
       "1987-05-11 00:00:00-04:00    0.000536\n",
       "1987-08-10 00:00:00-04:00    0.000536\n",
       "1987-11-17 00:00:00-05:00    0.000714\n",
       "1988-02-12 00:00:00-05:00    0.000714\n",
       "1988-05-16 00:00:00-04:00    0.000714\n",
       "                               ...   \n",
       "2022-02-04 00:00:00-05:00    0.220000\n",
       "2022-05-06 00:00:00-04:00    0.230000\n",
       "2022-08-05 00:00:00-04:00    0.230000\n",
       "2022-11-04 00:00:00-04:00    0.230000\n",
       "2023-02-10 00:00:00-05:00    0.230000\n",
       "Name: Dividends, Length: 78, dtype: float64"
      ]
     },
     "execution_count": 19,
     "metadata": {},
     "output_type": "execute_result"
    }
   ],
   "source": [
    "apple.dividends"
   ]
  },
  {
   "cell_type": "code",
   "execution_count": 20,
   "id": "a767ba6c",
   "metadata": {},
   "outputs": [
    {
     "data": {
      "text/plain": [
       "<AxesSubplot: xlabel='Date'>"
      ]
     },
     "execution_count": 20,
     "metadata": {},
     "output_type": "execute_result"
    },
    {
     "data": {
      "image/png": "[encoded data removed]",
      "text/plain": [
       "<Figure size 640x480 with 1 Axes>"
      ]
     },
     "metadata": {},
     "output_type": "display_data"
    }
   ],
   "source": [
    "apple.dividends.plot()"
   ]
  },
  {
   "cell_type": "code",
   "execution_count": 21,
   "id": "d521e0b0",
   "metadata": {},
   "outputs": [
    {
     "data": {
      "text/plain": [
       "yfinance.Ticker object <AMD>"
      ]
     },
     "execution_count": 21,
     "metadata": {},
     "output_type": "execute_result"
    }
   ],
   "source": [
    "amd = yf.Ticker(\"AMD\")\n",
    "amd"
   ]
  },
  {
   "cell_type": "code",
   "execution_count": 22,
   "id": "ea07383e",
   "metadata": {},
   "outputs": [
    {
     "name": "stdout",
     "output_type": "stream",
     "text": [
      "WARNING: No decryption keys could be extracted from JS file. Falling back to backup decrypt methods.\n"
     ]
    }
   ],
   "source": [
    "amd_info=amd.info"
   ]
  },
  {
   "cell_type": "code",
   "execution_count": 23,
   "id": "55947ee3",
   "metadata": {},
   "outputs": [
    {
     "data": {
      "text/plain": [
       "{'zip': '95054', 'sector': 'Technology', 'longBusinessSummary': 'Advanced Micro Devices, Inc. operates as a semiconductor company worldwide. The company operates in two segments, Computing and Graphics; and Enterprise, Embedded and Semi-Custom. Its products include x86 microprocessors as an accelerated processing unit, chipsets, discrete and integrated graphics processing units (GPUs), data center and professional GPUs, and development services; and server and embedded processors, and semi-custom System-on-Chip (SoC) products, development services, and technology for game consoles. The company provides processors for desktop and notebook personal computers under the AMD Ryzen, AMD Ryzen PRO, Ryzen Threadripper, Ryzen Threadripper PRO, AMD Athlon, AMD Athlon PRO, AMD FX, AMD A-Series, and AMD PRO A-Series processors brands; discrete GPUs for desktop and notebook PCs under the AMD Radeon graphics, AMD Embedded Radeon graphics brands; and professional graphics products under the AMD Radeon Pro and AMD FirePro graphics brands. It also offers Radeon Instinct, Radeon PRO V-series, and AMD Instinct accelerators for servers; chipsets under the AMD trademark; microprocessors for servers under the AMD EPYC; embedded processor solutions under the AMD Athlon, AMD Geode, AMD Ryzen, AMD EPYC, AMD R-Series, and G-Series processors brands; and customer-specific solutions based on AMD CPU, GPU, and multi-media technologies, as well as semi-custom SoC products. It serves original equipment manufacturers, public cloud service providers, original design manufacturers, system integrators, independent distributors, online retailers, and add-in-board manufacturers through its direct sales force, independent distributors, and sales representatives. The company was incorporated in 1969 and is headquartered in Santa Clara, California.', 'city': 'Santa Clara', 'phone': '408 749 4000', 'state': 'CA', 'country': 'United States', 'companyOfficers': [], 'website': 'https://www.amd.com', 'maxAge': 1, 'address1': '2485 Augustine Drive', 'industry': 'Semiconductors', 'ebitdaMargins': 0.19152, 'profitMargins': 0.05593, 'grossMargins': 0.51061, 'operatingCashflow': None, 'revenueGrowth': 0.16, 'operatingMargins': 0.05356, 'ebitda': 4519998976, 'targetLowPrice': 67, 'recommendationKey': 'buy', 'grossProfits': 12051000000, 'freeCashflow': None, 'targetMedianPrice': 90, 'earningsGrowth': -0.987, 'currentRatio': 2.358, 'returnOnAssets': 0.01975, 'numberOfAnalystOpinions': 35, 'targetMeanPrice': 93.6, 'debtToEquity': 5.229, 'returnOnEquity': 0.04241, 'targetHighPrice': 200, 'totalCash': 5855000064, 'totalDebt': 2863000064, 'totalRevenue': 23601000448, 'totalCashPerShare': 3.63, 'financialCurrency': 'USD', 'revenuePerShare': 15.119, 'quickRatio': 1.567, 'recommendationMean': 2.1, 'shortName': 'Advanced Micro Devices, Inc.', 'longName': 'Advanced Micro Devices, Inc.', 'isEsgPopulated': False, 'gmtOffSetMilliseconds': '-18000000', 'messageBoardId': 'finmb_168864', 'market': 'us_market', 'annualHoldingsTurnover': None, 'enterpriseToRevenue': 5.442, 'beta3Year': None, 'enterpriseToEbitda': 28.415, 'morningStarRiskRating': None, 'forwardEps': 4.33, 'revenueQuarterlyGrowth': None, 'sharesOutstanding': 1612359936, 'fundInceptionDate': None, 'annualReportExpenseRatio': None, 'totalAssets': None, 'bookValue': 33.943, 'sharesShort': 30319349, 'sharesPercentSharesOut': 0.0188, 'fundFamily': None, 'lastFiscalYearEnd': 1672444800, 'heldPercentInstitutions': 0.72648, 'netIncomeToCommon': 1320000000, 'trailingEps': 0.82, 'lastDividendValue': None, 'SandP52WeekChange': -0.075727224, 'priceToBook': 2.485932, 'heldPercentInsiders': 0.00356, 'nextFiscalYearEnd': 1703980800, 'yield': None, 'mostRecentQuarter': 1672444800, 'shortRatio': 0.56, 'sharesShortPreviousMonthDate': 1672358400, 'floatShares': 1603660730, 'beta': 1.981171, 'enterpriseValue': 128435240960, 'priceHint': 2, 'threeYearAverageReturn': None, 'lastSplitDate': 966902400, 'lastSplitFactor': '2:1', 'legalType': None, 'lastDividendDate': None, 'morningStarOverallRating': None, 'earningsQuarterlyGrowth': -0.978, 'priceToSalesTrailing12Months': 5.7646255, 'dateShortInterest': 1675123200, 'pegRatio': 2.78, 'ytdReturn': None, 'forwardPE': 19.487297, 'lastCapGain': None, 'shortPercentOfFloat': 0.0189, 'sharesShortPriorMonth': 32342921, 'impliedSharesOutstanding': 0, 'category': None, 'fiveYearAverageReturn': None, 'trailingAnnualDividendYield': 0, 'payoutRatio': 0, 'navPrice': None, 'trailingAnnualDividendRate': 0, 'toCurrency': None, 'expireDate': None, 'algorithm': None, 'dividendRate': None, 'exDividendDate': 798940800, 'circulatingSupply': None, 'startDate': None, 'trailingPE': 102.902435, 'lastMarket': None, 'maxSupply': None, 'openInterest': None, 'volumeAllCurrencies': None, 'strikePrice': None, 'ask': 85.44, 'askSize': 3200, 'fromCurrency': None, 'fiveYearAvgDividendYield': None, 'bid': 85.43, 'tradeable': False, 'dividendYield': None, 'bidSize': 1300, 'coinMarketCapLink': None, 'preMarketPrice': 85.1, 'logo_url': 'https://logo.clearbit.com/amd.com', 'trailingPegRatio': 1.5759}"
      ]
     },
     "execution_count": 23,
     "metadata": {},
     "output_type": "execute_result"
    }
   ],
   "source": [
    "amd_info"
   ]
  },
  {
   "cell_type": "code",
   "execution_count": 24,
   "id": "53efc74b",
   "metadata": {},
   "outputs": [
    {
     "data": {
      "text/plain": [
       "'United States'"
      ]
     },
     "execution_count": 24,
     "metadata": {},
     "output_type": "execute_result"
    }
   ],
   "source": [
    "amd_info['country']"
   ]
  },
  {
   "cell_type": "code",
   "execution_count": 25,
   "id": "16f67f1d",
   "metadata": {},
   "outputs": [
    {
     "data": {
      "text/plain": [
       "'Technology'"
      ]
     },
     "execution_count": 25,
     "metadata": {},
     "output_type": "execute_result"
    }
   ],
   "source": [
    "amd_info['sector']"
   ]
  },
  {
   "cell_type": "code",
   "execution_count": 26,
   "id": "70e1f56f",
   "metadata": {},
   "outputs": [
    {
     "data": {
      "text/html": [
       "<div>\n",
       "<style scoped>\n",
       "    .dataframe tbody tr th:only-of-type {\n",
       "        vertical-align: middle;\n",
       "    }\n",
       "\n",
       "    .dataframe tbody tr th {\n",
       "        vertical-align: top;\n",
       "    }\n",
       "\n",
       "    .dataframe thead th {\n",
       "        text-align: right;\n",
       "    }\n",
       "</style>\n",
       "<table border=\"1\" class=\"dataframe\">\n",
       "  <thead>\n",
       "    <tr style=\"text-align: right;\">\n",
       "      <th></th>\n",
       "      <th>Open</th>\n",
       "      <th>High</th>\n",
       "      <th>Low</th>\n",
       "      <th>Close</th>\n",
       "      <th>Volume</th>\n",
       "      <th>Dividends</th>\n",
       "      <th>Stock Splits</th>\n",
       "    </tr>\n",
       "    <tr>\n",
       "      <th>Date</th>\n",
       "      <th></th>\n",
       "      <th></th>\n",
       "      <th></th>\n",
       "      <th></th>\n",
       "      <th></th>\n",
       "      <th></th>\n",
       "      <th></th>\n",
       "    </tr>\n",
       "  </thead>\n",
       "  <tbody>\n",
       "    <tr>\n",
       "      <th>1980-03-17 00:00:00-05:00</th>\n",
       "      <td>0.000000</td>\n",
       "      <td>3.302083</td>\n",
       "      <td>3.125000</td>\n",
       "      <td>3.145833</td>\n",
       "      <td>219600</td>\n",
       "      <td>0.0</td>\n",
       "      <td>0.0</td>\n",
       "    </tr>\n",
       "    <tr>\n",
       "      <th>1980-03-18 00:00:00-05:00</th>\n",
       "      <td>0.000000</td>\n",
       "      <td>3.125000</td>\n",
       "      <td>2.937500</td>\n",
       "      <td>3.031250</td>\n",
       "      <td>727200</td>\n",
       "      <td>0.0</td>\n",
       "      <td>0.0</td>\n",
       "    </tr>\n",
       "    <tr>\n",
       "      <th>1980-03-19 00:00:00-05:00</th>\n",
       "      <td>0.000000</td>\n",
       "      <td>3.083333</td>\n",
       "      <td>3.020833</td>\n",
       "      <td>3.041667</td>\n",
       "      <td>295200</td>\n",
       "      <td>0.0</td>\n",
       "      <td>0.0</td>\n",
       "    </tr>\n",
       "    <tr>\n",
       "      <th>1980-03-20 00:00:00-05:00</th>\n",
       "      <td>0.000000</td>\n",
       "      <td>3.062500</td>\n",
       "      <td>3.010417</td>\n",
       "      <td>3.010417</td>\n",
       "      <td>159600</td>\n",
       "      <td>0.0</td>\n",
       "      <td>0.0</td>\n",
       "    </tr>\n",
       "    <tr>\n",
       "      <th>1980-03-21 00:00:00-05:00</th>\n",
       "      <td>0.000000</td>\n",
       "      <td>3.020833</td>\n",
       "      <td>2.906250</td>\n",
       "      <td>2.916667</td>\n",
       "      <td>130800</td>\n",
       "      <td>0.0</td>\n",
       "      <td>0.0</td>\n",
       "    </tr>\n",
       "    <tr>\n",
       "      <th>...</th>\n",
       "      <td>...</td>\n",
       "      <td>...</td>\n",
       "      <td>...</td>\n",
       "      <td>...</td>\n",
       "      <td>...</td>\n",
       "      <td>...</td>\n",
       "      <td>...</td>\n",
       "    </tr>\n",
       "    <tr>\n",
       "      <th>2023-02-08 00:00:00-05:00</th>\n",
       "      <td>85.879997</td>\n",
       "      <td>88.000000</td>\n",
       "      <td>84.540001</td>\n",
       "      <td>84.690002</td>\n",
       "      <td>54140400</td>\n",
       "      <td>0.0</td>\n",
       "      <td>0.0</td>\n",
       "    </tr>\n",
       "    <tr>\n",
       "      <th>2023-02-09 00:00:00-05:00</th>\n",
       "      <td>85.879997</td>\n",
       "      <td>86.669998</td>\n",
       "      <td>82.760002</td>\n",
       "      <td>83.209999</td>\n",
       "      <td>46525400</td>\n",
       "      <td>0.0</td>\n",
       "      <td>0.0</td>\n",
       "    </tr>\n",
       "    <tr>\n",
       "      <th>2023-02-10 00:00:00-05:00</th>\n",
       "      <td>82.290001</td>\n",
       "      <td>82.709999</td>\n",
       "      <td>80.470001</td>\n",
       "      <td>81.480003</td>\n",
       "      <td>49310800</td>\n",
       "      <td>0.0</td>\n",
       "      <td>0.0</td>\n",
       "    </tr>\n",
       "    <tr>\n",
       "      <th>2023-02-13 00:00:00-05:00</th>\n",
       "      <td>81.570000</td>\n",
       "      <td>84.150002</td>\n",
       "      <td>80.900002</td>\n",
       "      <td>83.129997</td>\n",
       "      <td>45400000</td>\n",
       "      <td>0.0</td>\n",
       "      <td>0.0</td>\n",
       "    </tr>\n",
       "    <tr>\n",
       "      <th>2023-02-14 00:00:00-05:00</th>\n",
       "      <td>82.699997</td>\n",
       "      <td>86.190002</td>\n",
       "      <td>81.769997</td>\n",
       "      <td>85.949997</td>\n",
       "      <td>55922900</td>\n",
       "      <td>0.0</td>\n",
       "      <td>0.0</td>\n",
       "    </tr>\n",
       "  </tbody>\n",
       "</table>\n",
       "<p>10821 rows × 7 columns</p>\n",
       "</div>"
      ],
      "text/plain": [
       "                                Open       High        Low      Close  \\\n",
       "Date                                                                    \n",
       "1980-03-17 00:00:00-05:00   0.000000   3.302083   3.125000   3.145833   \n",
       "1980-03-18 00:00:00-05:00   0.000000   3.125000   2.937500   3.031250   \n",
       "1980-03-19 00:00:00-05:00   0.000000   3.083333   3.020833   3.041667   \n",
       "1980-03-20 00:00:00-05:00   0.000000   3.062500   3.010417   3.010417   \n",
       "1980-03-21 00:00:00-05:00   0.000000   3.020833   2.906250   2.916667   \n",
       "...                              ...        ...        ...        ...   \n",
       "2023-02-08 00:00:00-05:00  85.879997  88.000000  84.540001  84.690002   \n",
       "2023-02-09 00:00:00-05:00  85.879997  86.669998  82.760002  83.209999   \n",
       "2023-02-10 00:00:00-05:00  82.290001  82.709999  80.470001  81.480003   \n",
       "2023-02-13 00:00:00-05:00  81.570000  84.150002  80.900002  83.129997   \n",
       "2023-02-14 00:00:00-05:00  82.699997  86.190002  81.769997  85.949997   \n",
       "\n",
       "                             Volume  Dividends  Stock Splits  \n",
       "Date                                                          \n",
       "1980-03-17 00:00:00-05:00    219600        0.0           0.0  \n",
       "1980-03-18 00:00:00-05:00    727200        0.0           0.0  \n",
       "1980-03-19 00:00:00-05:00    295200        0.0           0.0  \n",
       "1980-03-20 00:00:00-05:00    159600        0.0           0.0  \n",
       "1980-03-21 00:00:00-05:00    130800        0.0           0.0  \n",
       "...                             ...        ...           ...  \n",
       "2023-02-08 00:00:00-05:00  54140400        0.0           0.0  \n",
       "2023-02-09 00:00:00-05:00  46525400        0.0           0.0  \n",
       "2023-02-10 00:00:00-05:00  49310800        0.0           0.0  \n",
       "2023-02-13 00:00:00-05:00  45400000        0.0           0.0  \n",
       "2023-02-14 00:00:00-05:00  55922900        0.0           0.0  \n",
       "\n",
       "[10821 rows x 7 columns]"
      ]
     },
     "execution_count": 26,
     "metadata": {},
     "output_type": "execute_result"
    }
   ],
   "source": [
    "amd_history=amd.history(period='max')\n",
    "amd_history"
   ]
  },
  {
   "cell_type": "code",
   "execution_count": null,
   "id": "591e3f59",
   "metadata": {},
   "outputs": [],
   "source": []
  }
 ],
 "metadata": {
  "kernelspec": {
   "display_name": "Python 3 (ipykernel)",
   "language": "python",
   "name": "python3"
  },
  "language_info": {
   "codemirror_mode": {
    "name": "ipython",
    "version": 3
   },
   "file_extension": ".py",
   "mimetype": "text/x-python",
   "name": "python",
   "nbconvert_exporter": "python",
   "pygments_lexer": "ipython3",
   "version": "3.10.5"
  }
 },
 "nbformat": 4,
 "nbformat_minor": 5
}
